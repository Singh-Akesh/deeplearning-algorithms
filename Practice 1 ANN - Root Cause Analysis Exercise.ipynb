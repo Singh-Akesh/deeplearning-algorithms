{
 "cells": [
  {
   "cell_type": "markdown",
   "id": "6e0fac91",
   "metadata": {},
   "source": [
    "# ANN Arificial Nural Network: RCA Analysis"
   ]
  },
  {
   "cell_type": "markdown",
   "id": "855f9887",
   "metadata": {},
   "source": [
    "### 1. SetUp"
   ]
  },
  {
   "cell_type": "code",
   "execution_count": 28,
   "id": "cfca4e01",
   "metadata": {},
   "outputs": [
    {
     "name": "stdout",
     "output_type": "stream",
     "text": [
      "Requirement already satisfied: pandas in /Users/himani/opt/anaconda3/envs/deeplearning/lib/python3.8/site-packages (1.5.3)\n",
      "Requirement already satisfied: pytz>=2020.1 in /Users/himani/opt/anaconda3/envs/deeplearning/lib/python3.8/site-packages (from pandas) (2022.7.1)\n",
      "Requirement already satisfied: python-dateutil>=2.8.1 in /Users/himani/opt/anaconda3/envs/deeplearning/lib/python3.8/site-packages (from pandas) (2.8.2)\n",
      "Requirement already satisfied: numpy>=1.20.3 in /Users/himani/opt/anaconda3/envs/deeplearning/lib/python3.8/site-packages (from pandas) (1.24.2)\n",
      "Requirement already satisfied: six>=1.5 in /Users/himani/opt/anaconda3/envs/deeplearning/lib/python3.8/site-packages (from python-dateutil>=2.8.1->pandas) (1.16.0)\n",
      "Requirement already satisfied: tensorflow in /Users/himani/opt/anaconda3/envs/deeplearning/lib/python3.8/site-packages (2.11.0)\n",
      "Requirement already satisfied: typing-extensions>=3.6.6 in /Users/himani/opt/anaconda3/envs/deeplearning/lib/python3.8/site-packages (from tensorflow) (4.4.0)\n",
      "Requirement already satisfied: flatbuffers>=2.0 in /Users/himani/opt/anaconda3/envs/deeplearning/lib/python3.8/site-packages (from tensorflow) (23.1.21)\n",
      "Requirement already satisfied: six>=1.12.0 in /Users/himani/opt/anaconda3/envs/deeplearning/lib/python3.8/site-packages (from tensorflow) (1.16.0)\n",
      "Requirement already satisfied: absl-py>=1.0.0 in /Users/himani/opt/anaconda3/envs/deeplearning/lib/python3.8/site-packages (from tensorflow) (1.4.0)\n",
      "Requirement already satisfied: h5py>=2.9.0 in /Users/himani/opt/anaconda3/envs/deeplearning/lib/python3.8/site-packages (from tensorflow) (3.8.0)\n",
      "Requirement already satisfied: opt-einsum>=2.3.2 in /Users/himani/opt/anaconda3/envs/deeplearning/lib/python3.8/site-packages (from tensorflow) (3.3.0)\n",
      "Requirement already satisfied: astunparse>=1.6.0 in /Users/himani/opt/anaconda3/envs/deeplearning/lib/python3.8/site-packages (from tensorflow) (1.6.3)\n",
      "Requirement already satisfied: google-pasta>=0.1.1 in /Users/himani/opt/anaconda3/envs/deeplearning/lib/python3.8/site-packages (from tensorflow) (0.2.0)\n",
      "Requirement already satisfied: protobuf<3.20,>=3.9.2 in /Users/himani/opt/anaconda3/envs/deeplearning/lib/python3.8/site-packages (from tensorflow) (3.19.6)\n",
      "Requirement already satisfied: termcolor>=1.1.0 in /Users/himani/opt/anaconda3/envs/deeplearning/lib/python3.8/site-packages (from tensorflow) (2.2.0)\n",
      "Requirement already satisfied: wrapt>=1.11.0 in /Users/himani/opt/anaconda3/envs/deeplearning/lib/python3.8/site-packages (from tensorflow) (1.14.1)\n",
      "Requirement already satisfied: packaging in /Users/himani/opt/anaconda3/envs/deeplearning/lib/python3.8/site-packages (from tensorflow) (22.0)\n",
      "Requirement already satisfied: tensorboard<2.12,>=2.11 in /Users/himani/opt/anaconda3/envs/deeplearning/lib/python3.8/site-packages (from tensorflow) (2.11.2)\n",
      "Requirement already satisfied: tensorflow-io-gcs-filesystem>=0.23.1 in /Users/himani/opt/anaconda3/envs/deeplearning/lib/python3.8/site-packages (from tensorflow) (0.30.0)\n",
      "Requirement already satisfied: tensorflow-estimator<2.12,>=2.11.0 in /Users/himani/opt/anaconda3/envs/deeplearning/lib/python3.8/site-packages (from tensorflow) (2.11.0)\n",
      "Requirement already satisfied: setuptools in /Users/himani/opt/anaconda3/envs/deeplearning/lib/python3.8/site-packages (from tensorflow) (65.6.3)\n",
      "Requirement already satisfied: libclang>=13.0.0 in /Users/himani/opt/anaconda3/envs/deeplearning/lib/python3.8/site-packages (from tensorflow) (15.0.6.1)\n",
      "Requirement already satisfied: gast<=0.4.0,>=0.2.1 in /Users/himani/opt/anaconda3/envs/deeplearning/lib/python3.8/site-packages (from tensorflow) (0.4.0)\n",
      "Requirement already satisfied: numpy>=1.20 in /Users/himani/opt/anaconda3/envs/deeplearning/lib/python3.8/site-packages (from tensorflow) (1.24.2)\n",
      "Requirement already satisfied: keras<2.12,>=2.11.0 in /Users/himani/opt/anaconda3/envs/deeplearning/lib/python3.8/site-packages (from tensorflow) (2.11.0)\n",
      "Requirement already satisfied: grpcio<2.0,>=1.24.3 in /Users/himani/opt/anaconda3/envs/deeplearning/lib/python3.8/site-packages (from tensorflow) (1.51.3)\n",
      "Requirement already satisfied: wheel<1.0,>=0.23.0 in /Users/himani/opt/anaconda3/envs/deeplearning/lib/python3.8/site-packages (from astunparse>=1.6.0->tensorflow) (0.38.4)\n",
      "Requirement already satisfied: markdown>=2.6.8 in /Users/himani/opt/anaconda3/envs/deeplearning/lib/python3.8/site-packages (from tensorboard<2.12,>=2.11->tensorflow) (3.4.1)\n",
      "Requirement already satisfied: requests<3,>=2.21.0 in /Users/himani/opt/anaconda3/envs/deeplearning/lib/python3.8/site-packages (from tensorboard<2.12,>=2.11->tensorflow) (2.28.2)\n",
      "Requirement already satisfied: tensorboard-plugin-wit>=1.6.0 in /Users/himani/opt/anaconda3/envs/deeplearning/lib/python3.8/site-packages (from tensorboard<2.12,>=2.11->tensorflow) (1.8.1)\n",
      "Requirement already satisfied: google-auth<3,>=1.6.3 in /Users/himani/opt/anaconda3/envs/deeplearning/lib/python3.8/site-packages (from tensorboard<2.12,>=2.11->tensorflow) (2.16.1)\n",
      "Requirement already satisfied: werkzeug>=1.0.1 in /Users/himani/opt/anaconda3/envs/deeplearning/lib/python3.8/site-packages (from tensorboard<2.12,>=2.11->tensorflow) (2.2.3)\n",
      "Requirement already satisfied: tensorboard-data-server<0.7.0,>=0.6.0 in /Users/himani/opt/anaconda3/envs/deeplearning/lib/python3.8/site-packages (from tensorboard<2.12,>=2.11->tensorflow) (0.6.1)\n",
      "Requirement already satisfied: google-auth-oauthlib<0.5,>=0.4.1 in /Users/himani/opt/anaconda3/envs/deeplearning/lib/python3.8/site-packages (from tensorboard<2.12,>=2.11->tensorflow) (0.4.6)\n",
      "Requirement already satisfied: rsa<5,>=3.1.4 in /Users/himani/opt/anaconda3/envs/deeplearning/lib/python3.8/site-packages (from google-auth<3,>=1.6.3->tensorboard<2.12,>=2.11->tensorflow) (4.9)\n",
      "Requirement already satisfied: pyasn1-modules>=0.2.1 in /Users/himani/opt/anaconda3/envs/deeplearning/lib/python3.8/site-packages (from google-auth<3,>=1.6.3->tensorboard<2.12,>=2.11->tensorflow) (0.2.8)\n",
      "Requirement already satisfied: cachetools<6.0,>=2.0.0 in /Users/himani/opt/anaconda3/envs/deeplearning/lib/python3.8/site-packages (from google-auth<3,>=1.6.3->tensorboard<2.12,>=2.11->tensorflow) (5.3.0)\n",
      "Requirement already satisfied: requests-oauthlib>=0.7.0 in /Users/himani/opt/anaconda3/envs/deeplearning/lib/python3.8/site-packages (from google-auth-oauthlib<0.5,>=0.4.1->tensorboard<2.12,>=2.11->tensorflow) (1.3.1)\n",
      "Requirement already satisfied: importlib-metadata>=4.4 in /Users/himani/opt/anaconda3/envs/deeplearning/lib/python3.8/site-packages (from markdown>=2.6.8->tensorboard<2.12,>=2.11->tensorflow) (6.0.0)\n",
      "Requirement already satisfied: certifi>=2017.4.17 in /Users/himani/opt/anaconda3/envs/deeplearning/lib/python3.8/site-packages (from requests<3,>=2.21.0->tensorboard<2.12,>=2.11->tensorflow) (2022.12.7)\n",
      "Requirement already satisfied: charset-normalizer<4,>=2 in /Users/himani/opt/anaconda3/envs/deeplearning/lib/python3.8/site-packages (from requests<3,>=2.21.0->tensorboard<2.12,>=2.11->tensorflow) (3.0.1)\n",
      "Requirement already satisfied: urllib3<1.27,>=1.21.1 in /Users/himani/opt/anaconda3/envs/deeplearning/lib/python3.8/site-packages (from requests<3,>=2.21.0->tensorboard<2.12,>=2.11->tensorflow) (1.26.14)\n",
      "Requirement already satisfied: idna<4,>=2.5 in /Users/himani/opt/anaconda3/envs/deeplearning/lib/python3.8/site-packages (from requests<3,>=2.21.0->tensorboard<2.12,>=2.11->tensorflow) (3.4)\n",
      "Requirement already satisfied: MarkupSafe>=2.1.1 in /Users/himani/opt/anaconda3/envs/deeplearning/lib/python3.8/site-packages (from werkzeug>=1.0.1->tensorboard<2.12,>=2.11->tensorflow) (2.1.1)\n",
      "Requirement already satisfied: zipp>=0.5 in /Users/himani/opt/anaconda3/envs/deeplearning/lib/python3.8/site-packages (from importlib-metadata>=4.4->markdown>=2.6.8->tensorboard<2.12,>=2.11->tensorflow) (3.11.0)\n",
      "Requirement already satisfied: pyasn1<0.5.0,>=0.4.6 in /Users/himani/opt/anaconda3/envs/deeplearning/lib/python3.8/site-packages (from pyasn1-modules>=0.2.1->google-auth<3,>=1.6.3->tensorboard<2.12,>=2.11->tensorflow) (0.4.8)\n",
      "Requirement already satisfied: oauthlib>=3.0.0 in /Users/himani/opt/anaconda3/envs/deeplearning/lib/python3.8/site-packages (from requests-oauthlib>=0.7.0->google-auth-oauthlib<0.5,>=0.4.1->tensorboard<2.12,>=2.11->tensorflow) (3.2.2)\n"
     ]
    },
    {
     "name": "stdout",
     "output_type": "stream",
     "text": [
      "Requirement already satisfied: sklearn in /Users/himani/opt/anaconda3/envs/deeplearning/lib/python3.8/site-packages (0.0.post1)\n",
      "Requirement already satisfied: scikit-learn in /Users/himani/opt/anaconda3/envs/deeplearning/lib/python3.8/site-packages (1.2.1)\n",
      "Requirement already satisfied: scipy>=1.3.2 in /Users/himani/opt/anaconda3/envs/deeplearning/lib/python3.8/site-packages (from scikit-learn) (1.10.1)\n",
      "Requirement already satisfied: joblib>=1.1.1 in /Users/himani/opt/anaconda3/envs/deeplearning/lib/python3.8/site-packages (from scikit-learn) (1.2.0)\n",
      "Requirement already satisfied: numpy>=1.17.3 in /Users/himani/opt/anaconda3/envs/deeplearning/lib/python3.8/site-packages (from scikit-learn) (1.24.2)\n",
      "Requirement already satisfied: threadpoolctl>=2.0.0 in /Users/himani/opt/anaconda3/envs/deeplearning/lib/python3.8/site-packages (from scikit-learn) (3.1.0)\n",
      "Requirement already satisfied: matplotlib in /Users/himani/opt/anaconda3/envs/deeplearning/lib/python3.8/site-packages (3.7.0)\n",
      "Requirement already satisfied: contourpy>=1.0.1 in /Users/himani/opt/anaconda3/envs/deeplearning/lib/python3.8/site-packages (from matplotlib) (1.0.7)\n",
      "Requirement already satisfied: packaging>=20.0 in /Users/himani/opt/anaconda3/envs/deeplearning/lib/python3.8/site-packages (from matplotlib) (22.0)\n",
      "Requirement already satisfied: pillow>=6.2.0 in /Users/himani/opt/anaconda3/envs/deeplearning/lib/python3.8/site-packages (from matplotlib) (9.4.0)\n",
      "Requirement already satisfied: python-dateutil>=2.7 in /Users/himani/opt/anaconda3/envs/deeplearning/lib/python3.8/site-packages (from matplotlib) (2.8.2)\n",
      "Requirement already satisfied: cycler>=0.10 in /Users/himani/opt/anaconda3/envs/deeplearning/lib/python3.8/site-packages (from matplotlib) (0.11.0)\n",
      "Requirement already satisfied: importlib-resources>=3.2.0 in /Users/himani/opt/anaconda3/envs/deeplearning/lib/python3.8/site-packages (from matplotlib) (5.2.0)\n",
      "Requirement already satisfied: kiwisolver>=1.0.1 in /Users/himani/opt/anaconda3/envs/deeplearning/lib/python3.8/site-packages (from matplotlib) (1.4.4)\n",
      "Requirement already satisfied: fonttools>=4.22.0 in /Users/himani/opt/anaconda3/envs/deeplearning/lib/python3.8/site-packages (from matplotlib) (4.38.0)\n",
      "Requirement already satisfied: numpy>=1.20 in /Users/himani/opt/anaconda3/envs/deeplearning/lib/python3.8/site-packages (from matplotlib) (1.24.2)\n",
      "Requirement already satisfied: pyparsing>=2.3.1 in /Users/himani/opt/anaconda3/envs/deeplearning/lib/python3.8/site-packages (from matplotlib) (3.0.9)\n",
      "Requirement already satisfied: zipp>=3.1.0 in /Users/himani/opt/anaconda3/envs/deeplearning/lib/python3.8/site-packages (from importlib-resources>=3.2.0->matplotlib) (3.11.0)\n",
      "Requirement already satisfied: six>=1.5 in /Users/himani/opt/anaconda3/envs/deeplearning/lib/python3.8/site-packages (from python-dateutil>=2.7->matplotlib) (1.16.0)\n"
     ]
    }
   ],
   "source": [
    "#Install related libraries for the course. \n",
    "\n",
    "!pip install pandas\n",
    "!pip install tensorflow\n",
    "!pip install sklearn\n",
    "!pip install scikit-learn\n",
    "!pip install matplotlib"
   ]
  },
  {
   "cell_type": "markdown",
   "id": "73299d57",
   "metadata": {},
   "source": [
    "### 2. Prepare Input Data for Deep Learning\n",
    "\n",
    "Perform the following steps for preparing data\n",
    "\n",
    "    1. Load data into a pandas dataframe\n",
    "    2. Convert the dataframe to a numpy array\n",
    "    3. Scale the feature dataset\n",
    "    4. Use one-hot-encoding for the target variable\n",
    "    5. Split into training and test datasets\n",
    "    "
   ]
  },
  {
   "cell_type": "code",
   "execution_count": 37,
   "id": "b8288ea0",
   "metadata": {},
   "outputs": [
    {
     "name": "stdout",
     "output_type": "stream",
     "text": [
      "\n",
      "Loaded Data :\n",
      "------------------------------------\n",
      "   ID  CPU_LOAD  MEMORY_LEAK_LOAD  DELAY  ERROR_1000  ERROR_1001  ERROR_1002  \\\n",
      "0   1         0                 0      0           0           1           0   \n",
      "1   2         0                 0      0           0           0           0   \n",
      "2   3         0                 1      1           0           0           1   \n",
      "3   4         0                 1      0           1           1           0   \n",
      "4   5         1                 1      0           1           0           1   \n",
      "\n",
      "   ERROR_1003     ROOT_CAUSE  \n",
      "0           1    MEMORY_LEAK  \n",
      "1           1    MEMORY_LEAK  \n",
      "2           1    MEMORY_LEAK  \n",
      "3           1    MEMORY_LEAK  \n",
      "4           0  NETWORK_DELAY  \n",
      "\n",
      "Features before scaling :\n",
      "------------------------------------\n",
      "[[0 0 0 0 1 0 1]\n",
      " [0 0 0 0 0 0 1]\n",
      " [0 1 1 0 0 1 1]\n",
      " [0 1 0 1 1 0 1]\n",
      " [1 1 0 1 0 1 0]]\n",
      "\n",
      "Target before scaling :\n",
      "------------------------------------\n",
      "[1 1 1 1 2]\n",
      "\n",
      "Features after scaling :\n",
      "------------------------------------\n",
      "[[-0.94548368 -0.84747452 -0.80632811 -0.80801767  1.03046381 -0.87210285\n",
      "   1.27462619]\n",
      " [-0.94548368 -0.84747452 -0.80632811 -0.80801767 -0.97043679 -0.87210285\n",
      "   1.27462619]\n",
      " [-0.94548368  1.17997648  1.24018993 -0.80801767 -0.97043679  1.14665375\n",
      "   1.27462619]\n",
      " [-0.94548368  1.17997648 -0.80632811  1.23759669  1.03046381 -0.87210285\n",
      "   1.27462619]\n",
      " [ 1.05765971  1.17997648 -0.80632811  1.23759669 -0.97043679  1.14665375\n",
      "  -0.78454374]]\n",
      "\n",
      "Target after one-hot-encoding :\n",
      "------------------------------------\n",
      "[[0. 1. 0.]\n",
      " [0. 1. 0.]\n",
      " [0. 1. 0.]\n",
      " [0. 1. 0.]\n",
      " [0. 0. 1.]]\n",
      "\n",
      "Train Test Dimensions:\n",
      "------------------------------------\n",
      "(900, 7) (900, 3) (100, 7) (100, 3)\n"
     ]
    }
   ],
   "source": [
    "import pandas as pd\n",
    "import os\n",
    "import tensorflow as tf\n",
    "import numpy as np\n",
    "from sklearn.model_selection import train_test_split\n",
    "from sklearn.preprocessing import StandardScaler\n",
    "from sklearn import preprocessing\n",
    "\n",
    "#Load Data and review content\n",
    "rca_data = pd.read_csv(\"root_cause_analysis.csv\")\n",
    "print(\"\\nLoaded Data :\\n------------------------------------\")\n",
    "print(rca_data.head())\n",
    "\n",
    "#Use a Label encoder to convert String to numeric values \n",
    "#for the target variable\n",
    "label_encoder = preprocessing.LabelEncoder()\n",
    "rca_data['ROOT_CAUSE'] = label_encoder.fit_transform(\n",
    "                                rca_data['ROOT_CAUSE'])\n",
    "\n",
    "\n",
    "#Convert input to numpy array\n",
    "np_rca = rca_data.to_numpy()\n",
    "\n",
    "\n",
    "#Separate feature and target variables\n",
    "X_data = np_rca[:,1:8]\n",
    "Y_data=np_rca[:,8]\n",
    "\n",
    "print(\"\\nFeatures before scaling :\\n------------------------------------\")\n",
    "print(X_data[:5,:])\n",
    "print(\"\\nTarget before scaling :\\n------------------------------------\")\n",
    "print(Y_data[:5])\n",
    "\n",
    "#Create a scaler model that is fit on the input data.\n",
    "scaler = StandardScaler().fit(X_data)\n",
    "\n",
    "#Scale the numeric feature variables\n",
    "X_data = scaler.transform(X_data)\n",
    "\n",
    "#Convert target variable as a one-hot-encoding array\n",
    "Y_data = tf.keras.utils.to_categorical(Y_data,3)\n",
    "\n",
    "print(\"\\nFeatures after scaling :\\n------------------------------------\")\n",
    "print(X_data[:5,:])\n",
    "print(\"\\nTarget after one-hot-encoding :\\n------------------------------------\")\n",
    "print(Y_data[:5,:])\n",
    "\n",
    "\n",
    "#Split training and test data\n",
    "X_train,X_test,Y_train,Y_test = train_test_split( X_data, Y_data, test_size=0.10)\n",
    "\n",
    "print(\"\\nTrain Test Dimensions:\\n------------------------------------\")\n",
    "print(X_train.shape, Y_train.shape, X_test.shape, Y_test.shape)"
   ]
  },
  {
   "cell_type": "markdown",
   "id": "cfc8e9ef",
   "metadata": {},
   "source": [
    "### 3. Creating a Model\n",
    "\n",
    "Creating a model in Keras requires defining the following\n",
    "\n",
    "    1. Number of hidden layers\n",
    "    2. Number of nodes in each layer\n",
    "    3. Activation functions\n",
    "    4. Loss Function & Accuracy measurements"
   ]
  },
  {
   "cell_type": "code",
   "execution_count": 55,
   "id": "9558a6da",
   "metadata": {},
   "outputs": [
    {
     "name": "stdout",
     "output_type": "stream",
     "text": [
      "Model: \"sequential_7\"\n",
      "_________________________________________________________________\n",
      " Layer (type)                Output Shape              Param #   \n",
      "=================================================================\n",
      " Hidden-Layer-1 (Dense)      (None, 256)               2048      \n",
      "                                                                 \n",
      " Hidden-Layer-2 (Dense)      (None, 256)               65792     \n",
      "                                                                 \n",
      " Output-Layer (Dense)        (None, 3)                 771       \n",
      "                                                                 \n",
      "=================================================================\n",
      "Total params: 68,611\n",
      "Trainable params: 68,611\n",
      "Non-trainable params: 0\n",
      "_________________________________________________________________\n"
     ]
    }
   ],
   "source": [
    "from tensorflow import keras\n",
    "\n",
    "#Number of classes in the target variable\n",
    "NB_CLASSES=3\n",
    "N_HIDDEN=256\n",
    "\n",
    "\n",
    "#Create a sequential model\n",
    "model = tf.keras.models.Sequential()\n",
    "\n",
    "#Add the first hidden layer\n",
    "model.add(keras.layers.Dense(N_HIDDEN,                              #Number of nodes\n",
    "                             input_shape=(X_train.shape[1],),       #Number of input variables\n",
    "                              name='Hidden-Layer-1',                #Logical name\n",
    "                              activation='relu'))                   #activation function\n",
    "\n",
    "#Add the second hidden layer\n",
    "model.add(keras.layers.Dense(N_HIDDEN,                                   #Number of nodes\n",
    "                              name='Hidden-Layer-2',                #Logical name\n",
    "                              activation='relu'))                   #activation function\n",
    "\n",
    "#Add an output layer with softmax activation\n",
    "model.add(keras.layers.Dense(NB_CLASSES,\n",
    "                             name='Output-Layer',\n",
    "                             activation='softmax'))\n",
    "\n",
    "#Compile the model with loss & metrics\n",
    "model.compile(loss='categorical_crossentropy',\n",
    "              metrics=['accuracy'])\n",
    "\n",
    "#Print the model meta-data\n",
    "model.summary()\n"
   ]
  },
  {
   "cell_type": "markdown",
   "id": "54626316",
   "metadata": {},
   "source": [
    "### 4. Training and evaluating the Model\n",
    "\n",
    "Training the model involves defining various training models and then perform \n",
    "forward and back propagation."
   ]
  },
  {
   "cell_type": "code",
   "execution_count": 56,
   "id": "5730f482",
   "metadata": {},
   "outputs": [
    {
     "name": "stdout",
     "output_type": "stream",
     "text": [
      "\n",
      "Training Progress:\n",
      "------------------------------------\n",
      "Epoch 1/10\n",
      "12/12 [==============================] - 0s 15ms/step - loss: 0.6721 - accuracy: 0.7472 - val_loss: 0.5165 - val_accuracy: 0.8000\n",
      "Epoch 2/10\n",
      "12/12 [==============================] - 0s 4ms/step - loss: 0.4569 - accuracy: 0.8361 - val_loss: 0.5096 - val_accuracy: 0.7889\n",
      "Epoch 3/10\n",
      "12/12 [==============================] - 0s 4ms/step - loss: 0.4216 - accuracy: 0.8500 - val_loss: 0.4847 - val_accuracy: 0.7944\n",
      "Epoch 4/10\n",
      "12/12 [==============================] - 0s 4ms/step - loss: 0.4077 - accuracy: 0.8500 - val_loss: 0.4740 - val_accuracy: 0.8167\n",
      "Epoch 5/10\n",
      "12/12 [==============================] - 0s 4ms/step - loss: 0.3874 - accuracy: 0.8569 - val_loss: 0.4937 - val_accuracy: 0.8278\n",
      "Epoch 6/10\n",
      "12/12 [==============================] - 0s 5ms/step - loss: 0.3817 - accuracy: 0.8542 - val_loss: 0.4860 - val_accuracy: 0.8111\n",
      "Epoch 7/10\n",
      "12/12 [==============================] - 0s 4ms/step - loss: 0.3736 - accuracy: 0.8597 - val_loss: 0.4932 - val_accuracy: 0.8167\n",
      "Epoch 8/10\n",
      "12/12 [==============================] - 0s 4ms/step - loss: 0.3651 - accuracy: 0.8556 - val_loss: 0.4716 - val_accuracy: 0.8278\n",
      "Epoch 9/10\n",
      "12/12 [==============================] - 0s 4ms/step - loss: 0.3540 - accuracy: 0.8514 - val_loss: 0.4877 - val_accuracy: 0.8222\n",
      "Epoch 10/10\n",
      "12/12 [==============================] - 0s 4ms/step - loss: 0.3512 - accuracy: 0.8639 - val_loss: 0.4533 - val_accuracy: 0.8167\n",
      "\n",
      "Accuracy during Training :\n",
      "------------------------------------\n"
     ]
    },
    {
     "data": {
      "image/png": "[encoded data removed]",
      "text/plain": [
       "<Figure size 800x500 with 1 Axes>"
      ]
     },
     "metadata": {},
     "output_type": "display_data"
    },
    {
     "name": "stdout",
     "output_type": "stream",
     "text": [
      "\n",
      "Evaluation against Test Dataset :\n",
      "------------------------------------\n",
      "4/4 [==============================] - 0s 2ms/step - loss: 0.3992 - accuracy: 0.8500\n"
     ]
    },
    {
     "data": {
      "text/plain": [
       "[0.3991618752479553, 0.8500000238418579]"
      ]
     },
     "execution_count": 56,
     "metadata": {},
     "output_type": "execute_result"
    }
   ],
   "source": [
    "#Make it verbose so we can see the progress\n",
    "VERBOSE=1\n",
    "\n",
    "#Setup Hyper Parameters for training\n",
    "\n",
    "#Set Batch size\n",
    "BATCH_SIZE=64\n",
    "#Set number of epochs\n",
    "EPOCHS=10\n",
    "#Set validation split. 20% of the training data will be used for validation\n",
    "#after each epoch\n",
    "VALIDATION_SPLIT=0.2\n",
    "\n",
    "print(\"\\nTraining Progress:\\n------------------------------------\")\n",
    "\n",
    "#Fit the model. This will perform the entire training cycle, including\n",
    "#forward propagation, loss computation, backward propagation and gradient descent.\n",
    "#Execute for the specified batch sizes and epoch\n",
    "#Perform validation after each epoch \n",
    "history=model.fit(X_train,\n",
    "          Y_train,\n",
    "          batch_size=BATCH_SIZE,\n",
    "          epochs=EPOCHS,\n",
    "          verbose=VERBOSE,\n",
    "          validation_split=VALIDATION_SPLIT)\n",
    "\n",
    "print(\"\\nAccuracy during Training :\\n------------------------------------\")\n",
    "import matplotlib.pyplot as plt\n",
    "\n",
    "#Plot accuracy of the model after each epoch.\n",
    "pd.DataFrame(history.history)[\"accuracy\"].plot(figsize=(8, 5))\n",
    "plt.title(\"Accuracy improvements with Epoch\")\n",
    "plt.show()\n",
    "\n",
    "#Evaluate the model against the test dataset and print results\n",
    "print(\"\\nEvaluation against Test Dataset :\\n------------------------------------\")\n",
    "model.evaluate(X_test,Y_test)"
   ]
  },
  {
   "cell_type": "markdown",
   "id": "490f58fd",
   "metadata": {},
   "source": [
    "### 5. Saving and Loading Models\n"
   ]
  },
  {
   "cell_type": "code",
   "execution_count": 57,
   "id": "4900f645",
   "metadata": {},
   "outputs": [
    {
     "name": "stderr",
     "output_type": "stream",
     "text": [
      "WARNING:absl:Function `_wrapped_model` contains input name(s) Hidden-Layer-1_input with unsupported characters which will be renamed to hidden_layer_1_input in the SavedModel.\n",
      "WARNING:absl:Found untraced functions such as _update_step_xla while saving (showing 1 of 1). These functions will not be directly callable after loading.\n"
     ]
    },
    {
     "name": "stdout",
     "output_type": "stream",
     "text": [
      "INFO:tensorflow:Assets written to: rca_save/assets\n"
     ]
    },
    {
     "name": "stderr",
     "output_type": "stream",
     "text": [
      "INFO:tensorflow:Assets written to: rca_save/assets\n"
     ]
    },
    {
     "name": "stdout",
     "output_type": "stream",
     "text": [
      "Model: \"sequential_7\"\n",
      "_________________________________________________________________\n",
      " Layer (type)                Output Shape              Param #   \n",
      "=================================================================\n",
      " Hidden-Layer-1 (Dense)      (None, 256)               2048      \n",
      "                                                                 \n",
      " Hidden-Layer-2 (Dense)      (None, 256)               65792     \n",
      "                                                                 \n",
      " Output-Layer (Dense)        (None, 3)                 771       \n",
      "                                                                 \n",
      "=================================================================\n",
      "Total params: 68,611\n",
      "Trainable params: 68,611\n",
      "Non-trainable params: 0\n",
      "_________________________________________________________________\n"
     ]
    }
   ],
   "source": [
    "#Saving a model\n",
    "    \n",
    "model.save(\"rca_save\")\n",
    "    \n",
    "#Loading a Model \n",
    "loaded_model = keras.models.load_model(\"rca_save\")\n",
    "\n",
    "#Print Model Summary\n",
    "loaded_model.summary()"
   ]
  },
  {
   "cell_type": "markdown",
   "id": "deefab9f",
   "metadata": {},
   "source": [
    "### 6. Predictions with Deep Learning Models"
   ]
  },
  {
   "cell_type": "code",
   "execution_count": 58,
   "id": "fdda9d65",
   "metadata": {},
   "outputs": [
    {
     "name": "stdout",
     "output_type": "stream",
     "text": [
      "1/1 [==============================] - 0s 68ms/step\n",
      "Raw Prediction Output (Probabilities) : [[0.00221951 0.993335   0.00444544]]\n",
      "Prediction is  ['MEMORY_LEAK']\n"
     ]
    }
   ],
   "source": [
    "#Raw prediction data\n",
    "prediction_input = [[0,1,1,0,0,0,1]]\n",
    "\n",
    "#Scale prediction data with the same scaling model\n",
    "scaled_input = scaler.transform(prediction_input)\n",
    "\n",
    "#Get raw prediction probabilities\n",
    "raw_prediction = model.predict(scaled_input)\n",
    "print(\"Raw Prediction Output (Probabilities) :\" , raw_prediction)\n",
    "\n",
    "#Find prediction\n",
    "prediction = np.argmax(raw_prediction)\n",
    "print(\"Prediction is \", label_encoder.inverse_transform([prediction]))"
   ]
  },
  {
   "cell_type": "code",
   "execution_count": null,
   "id": "ff70a24f",
   "metadata": {},
   "outputs": [],
   "source": []
  }
 ],
 "metadata": {
  "kernelspec": {
   "display_name": "Python 3 (ipykernel)",
   "language": "python",
   "name": "python3"
  },
  "language_info": {
   "codemirror_mode": {
    "name": "ipython",
    "version": 3
   },
   "file_extension": ".py",
   "mimetype": "text/x-python",
   "name": "python",
   "nbconvert_exporter": "python",
   "pygments_lexer": "ipython3",
   "version": "3.8.16"
  }
 },
 "nbformat": 4,
 "nbformat_minor": 5
}
